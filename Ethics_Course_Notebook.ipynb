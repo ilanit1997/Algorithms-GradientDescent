{
  "cells": [
    {
      "cell_type": "markdown",
      "metadata": {
        "id": "view-in-github",
        "colab_type": "text"
      },
      "source": [
        "<a href=\"https://colab.research.google.com/github/ilanit1997/Algorithms-GradientDescent/blob/main/Ethics_Course_Notebook.ipynb\" target=\"_parent\"><img src=\"https://colab.research.google.com/assets/colab-badge.svg\" alt=\"Open In Colab\"/></a>"
      ]
    },
    {
      "cell_type": "markdown",
      "source": [
        "![banner](https://learn.responsibly.ai/assets/img/banner.jpg)\n",
        "\n",
        "# Class 10 - Discrimination & Fairness in Social Media: Case-Study "
      ],
      "metadata": {
        "datalore": {
          "type": "MD",
          "hide_input_from_viewers": false,
          "hide_output_from_viewers": false
        },
        "id": "Yrc1num0KU6A"
      }
    },
    {
      "cell_type": "markdown",
      "source": [
        "## Intro\n",
        "\n",
        "In this class, you will be exposed to a well known challenge for data scientists, dealing with biases and investigating where they come from. We will train a model and practice identifying bias.\n",
        "\n",
        "Machine learning (ML) has the potential to improve lives, but it can also be a source of harm. ML applications have discriminated against individuals on the basis of race, sex, religion, socioeconomic status, and other categories.\n",
        "\n",
        "In this tutorial, you’ll learn about bias, which refers to negative, unwanted consequences of ML applications, especially if the consequences disproportionately affect certain groups."
      ],
      "metadata": {
        "datalore": {
          "type": "MD",
          "hide_input_from_viewers": false,
          "hide_output_from_viewers": false
        },
        "id": "qM5pXu4PKU6W"
      }
    },
    {
      "cell_type": "markdown",
      "source": [
        "## 1. Setup"
      ],
      "metadata": {
        "datalore": {
          "type": "MD",
          "hide_input_from_viewers": false,
          "hide_output_from_viewers": false
        },
        "id": "NB_InxbYKU6b"
      }
    },
    {
      "cell_type": "code",
      "source": [
        "import numpy as np\n",
        "import pandas as pd\n",
        "from sklearn.model_selection import train_test_split\n",
        "from sklearn.feature_extraction.text import CountVectorizer\n",
        "\n",
        "# Get the same results each time\n",
        "np.random.seed(0)"
      ],
      "execution_count": null,
      "outputs": [],
      "metadata": {
        "datalore": {
          "type": "CODE",
          "hide_input_from_viewers": false,
          "hide_output_from_viewers": false
        },
        "id": "hmiGSQa4KU6e"
      }
    },
    {
      "cell_type": "markdown",
      "source": [
        "## 2. Dataset"
      ],
      "metadata": {
        "datalore": {
          "type": "MD",
          "hide_input_from_viewers": false,
          "hide_output_from_viewers": false
        },
        "id": "1HhyLXiNKU6j"
      }
    },
    {
      "cell_type": "markdown",
      "source": [
        "### Background:\n",
        "\n",
        "At the end of 2017, the Civil Comments platform shut down and released their ~2 million public comments in a lasting open archive. Jigsaw sponsored this effort and helped to comprehensively annotate the data. In 2019, Kaggle held the Jigsaw Unintended Bias in Toxicity Classification competition so that data scientists worldwide could work together to investigate ways to mitigate bias.\n",
        "\n",
        "The code cell below loads some of the data from the competition. We'll work with thousands of comments, where each comment is labeled as either \"toxic\" or \"not toxic\"."
      ],
      "metadata": {
        "datalore": {
          "type": "MD",
          "hide_input_from_viewers": false,
          "hide_output_from_viewers": false
        },
        "id": "ZijCUseKKU6l"
      }
    },
    {
      "cell_type": "code",
      "source": [
        "# Load the training data\n",
        "data = pd.read_csv(\"/data/notebook_files/data.csv\")\n",
        "comments = data[\"comment_text\"]\n",
        "target = (data[\"target\"]>0.7).astype(int)\n",
        "\n",
        "# Break into training and test sets\n",
        "comments_train, comments_test, y_train, y_test = train_test_split(comments, target, test_size=0.30, stratify=target)\n",
        "\n",
        "# Get vocabulary from training data\n",
        "vectorizer = CountVectorizer()\n",
        "vectorizer.fit(comments_train)\n",
        "\n",
        "# Get word counts for training and test sets\n",
        "X_train = vectorizer.transform(comments_train)\n",
        "X_test = vectorizer.transform(comments_test)\n",
        "\n",
        "# Preview the dataset\n",
        "print(\"Sample toxic comment:\", comments_train.iloc[22])\n",
        "print(\"Sample not-toxic comment:\", comments_train.iloc[17])"
      ],
      "execution_count": null,
      "outputs": [
        {
          "name": "stdout",
          "text": [
            "Sample toxic comment: Too dumb to even answer.\n",
            "Sample not-toxic comment: No they aren't.\n"
          ],
          "output_type": "stream"
        }
      ],
      "metadata": {
        "datalore": {
          "type": "CODE",
          "hide_input_from_viewers": false,
          "hide_output_from_viewers": false
        },
        "id": "eP_CWt4DKU6o",
        "outputId": "60f10258-9601-4a85-9cf6-f5c11854316f"
      }
    },
    {
      "cell_type": "markdown",
      "source": [
        "## 3. Train the model"
      ],
      "metadata": {
        "datalore": {
          "type": "MD",
          "hide_input_from_viewers": false,
          "hide_output_from_viewers": false
        },
        "id": "zHzbJdG7KU6v"
      }
    },
    {
      "cell_type": "markdown",
      "source": [
        "Run the next code cell to train a simple model. \n",
        "\n",
        "The output shows the accuracy of the model on some test data."
      ],
      "metadata": {
        "datalore": {
          "type": "MD",
          "hide_input_from_viewers": false,
          "hide_output_from_viewers": false
        },
        "id": "9cdhbi9lKU6y"
      }
    },
    {
      "cell_type": "code",
      "source": [
        "from sklearn.linear_model import LogisticRegression\n",
        "\n",
        "# Train a model and evaluate performance on test dataset\n",
        "classifier = LogisticRegression(max_iter=2000)\n",
        "classifier.fit(X_train, y_train)\n",
        "score = classifier.score(X_test, y_test)\n",
        "print(\"Accuracy:\", round(score,3))\n",
        "\n",
        "# Function to classify any string\n",
        "def classify_string(string):\n",
        "    prediction = classifier.predict(vectorizer.transform([string]))[0]\n",
        "    if prediction == 0:\n",
        "        print(\"NOT TOXIC:\", string)\n",
        "    else:\n",
        "        print(\"TOXIC:\", string)"
      ],
      "execution_count": null,
      "outputs": [
        {
          "name": "stdout",
          "text": [
            "Accuracy: 0.93\n"
          ],
          "output_type": "stream"
        }
      ],
      "metadata": {
        "datalore": {
          "type": "CODE",
          "hide_input_from_viewers": false,
          "hide_output_from_viewers": false
        },
        "id": "W5jduixXKU60",
        "outputId": "5a186f15-b049-4d7f-9c23-b4ac9af3ca15"
      }
    },
    {
      "cell_type": "markdown",
      "source": [
        "\n",
        "## 4. Try out the model"
      ],
      "metadata": {
        "datalore": {
          "type": "MD",
          "hide_input_from_viewers": false,
          "hide_output_from_viewers": false
        },
        "id": "v1u8q_FXKU63"
      }
    },
    {
      "cell_type": "markdown",
      "source": [
        "You'll use the next code cell to write your own comments and supply them to the model: does the model classify them as toxic?\n",
        "\n",
        "1. Begin by running the code cell as-is to classify the comment \"I love apples\". You should see that was classified as \"NOT TOXIC\".\n",
        "   \n",
        "2. Then, try out another comment: \"Apples are stupid\". To do this, change only \"I love apples\" and leaving the rest of the code as-is. Make sure that your comment is enclosed in quotes, as below.\n",
        "   \n",
        "3. Try out several comments (not necessarily about apples!), to see how the model performs: does it perform as suspected?"
      ],
      "metadata": {
        "datalore": {
          "type": "MD",
          "hide_input_from_viewers": false,
          "hide_output_from_viewers": false
        },
        "id": "VgJYaeF2KU65"
      }
    },
    {
      "cell_type": "code",
      "source": [
        "# Comment to pass through the model\n",
        "my_comment = \"\\n I love apples\"\n",
        "\n",
        "# Do not change the code below\n",
        "classify_string(my_comment)\n",
        "\n",
        "# Comment to pass through the model\n",
        "my_comment = \"\\n Apples are stupid\"\n",
        "\n",
        "# Do not change the code below\n",
        "classify_string(my_comment)\n"
      ],
      "execution_count": null,
      "outputs": [
        {
          "name": "stdout",
          "text": [
            "NOT TOXIC: \n",
            " I love apples\n",
            "TOXIC: \n",
            " Apples are stupid\n"
          ],
          "output_type": "stream"
        }
      ],
      "metadata": {
        "datalore": {
          "type": "CODE",
          "hide_input_from_viewers": false,
          "hide_output_from_viewers": false
        },
        "id": "mATan_4sKU67",
        "outputId": "0cf12a13-8f37-4759-ec52-818ee48ceb75"
      }
    },
    {
      "cell_type": "markdown",
      "source": [
        "## 5. Analysing the model coefficients"
      ],
      "metadata": {
        "datalore": {
          "type": "MD",
          "hide_input_from_viewers": false,
          "hide_output_from_viewers": false
        },
        "id": "nlxlp131KU68"
      }
    },
    {
      "cell_type": "markdown",
      "source": [
        "The model assigns a coefficient to each one of the words in the word bank defined in previous cell. Higher coefficients denote words that the model thinks are more toxic. \n",
        "\n",
        "Below, you can see the ten words that are considered most toxic, along with their coefficients.\n",
        "\n",
        "Are you surprised to see any of them? Are there any words that seem like they should not be in the list?"
      ],
      "metadata": {
        "datalore": {
          "type": "MD",
          "hide_input_from_viewers": false,
          "hide_output_from_viewers": false
        },
        "id": "C7oD_XYNKU6-"
      }
    },
    {
      "cell_type": "code",
      "source": [
        "coefficients = pd.DataFrame({\"word\": sorted(list(vectorizer.vocabulary_.keys())), \"coeff\": np.around(classifier.coef_[0],3)})\n",
        "coefficients.sort_values(by=['coeff'], ascending=True).tail(10)"
      ],
      "execution_count": null,
      "outputs": [
        {
          "data": {
            "text/html": [
              "<div>\n",
              "<style scoped>\n",
              "    .dataframe tbody tr th:only-of-type {\n",
              "        vertical-align: middle;\n",
              "    }\n",
              "\n",
              "    .dataframe tbody tr th {\n",
              "        vertical-align: top;\n",
              "    }\n",
              "\n",
              "    .dataframe thead th {\n",
              "        text-align: right;\n",
              "    }\n",
              "</style>\n",
              "<table border=\"1\" class=\"dataframe\">\n",
              "  <thead>\n",
              "    <tr style=\"text-align: right;\">\n",
              "      <th></th>\n",
              "      <th>word</th>\n",
              "      <th>coeff</th>\n",
              "    </tr>\n",
              "  </thead>\n",
              "  <tbody>\n",
              "    <tr>\n",
              "      <th>20745</th>\n",
              "      <td>fools</td>\n",
              "      <td>6.279</td>\n",
              "    </tr>\n",
              "    <tr>\n",
              "      <th>34211</th>\n",
              "      <td>moron</td>\n",
              "      <td>6.332</td>\n",
              "    </tr>\n",
              "    <tr>\n",
              "      <th>16844</th>\n",
              "      <td>dumb</td>\n",
              "      <td>6.359</td>\n",
              "    </tr>\n",
              "    <tr>\n",
              "      <th>12907</th>\n",
              "      <td>crap</td>\n",
              "      <td>6.490</td>\n",
              "    </tr>\n",
              "    <tr>\n",
              "      <th>38317</th>\n",
              "      <td>pathetic</td>\n",
              "      <td>6.554</td>\n",
              "    </tr>\n",
              "    <tr>\n",
              "      <th>25850</th>\n",
              "      <td>idiotic</td>\n",
              "      <td>7.005</td>\n",
              "    </tr>\n",
              "    <tr>\n",
              "      <th>49802</th>\n",
              "      <td>stupidity</td>\n",
              "      <td>7.554</td>\n",
              "    </tr>\n",
              "    <tr>\n",
              "      <th>25858</th>\n",
              "      <td>idiots</td>\n",
              "      <td>8.602</td>\n",
              "    </tr>\n",
              "    <tr>\n",
              "      <th>25847</th>\n",
              "      <td>idiot</td>\n",
              "      <td>8.605</td>\n",
              "    </tr>\n",
              "    <tr>\n",
              "      <th>49789</th>\n",
              "      <td>stupid</td>\n",
              "      <td>9.279</td>\n",
              "    </tr>\n",
              "  </tbody>\n",
              "</table>\n",
              "</div>"
            ]
          },
          "metadata": {},
          "output_type": "display_data"
        }
      ],
      "metadata": {
        "datalore": {
          "type": "CODE",
          "hide_input_from_viewers": false,
          "hide_output_from_viewers": false
        },
        "id": "aHB3hWVZKU6-",
        "outputId": "1eca4f03-a8fc-48bd-9518-1143b087ae80"
      }
    },
    {
      "cell_type": "markdown",
      "source": [
        "## 6. Case Study - Artifacts"
      ],
      "metadata": {
        "datalore": {
          "type": "MD",
          "hide_input_from_viewers": false,
          "hide_output_from_viewers": false
        },
        "id": "dFB9QnOEKU7A"
      }
    },
    {
      "cell_type": "markdown",
      "source": [
        "## Analysing the posts of the case study"
      ],
      "metadata": {
        "datalore": {
          "type": "MD",
          "hide_input_from_viewers": false,
          "hide_output_from_viewers": false
        },
        "id": "pxm_6bYdKU7B"
      }
    },
    {
      "cell_type": "markdown",
      "source": [
        "## NOT TOXIC - Post"
      ],
      "metadata": {
        "datalore": {
          "type": "MD",
          "hide_input_from_viewers": false,
          "hide_output_from_viewers": false
        },
        "id": "asHpHmAkKU7C"
      }
    },
    {
      "cell_type": "code",
      "source": [
        "from IPython.display import display, Image\n",
        "\n",
        "display(Image(filename='post.JPG'))"
      ],
      "execution_count": null,
      "outputs": [
        {
          "data": {
            "image/jpeg": "[encoded data removed]"
          },
          "metadata": {
            "image/jpeg": {}
          },
          "output_type": "display_data"
        }
      ],
      "metadata": {
        "datalore": {
          "type": "CODE",
          "hide_input_from_viewers": false,
          "hide_output_from_viewers": false
        },
        "id": "I7F0FRsWKU7D",
        "outputId": "66fd46ba-0f0a-47cb-8e0f-cdb050ea9a6e"
      }
    },
    {
      "cell_type": "code",
      "source": [
        "# Comment to pass through the model\n",
        "post = \"\\n Regarding the debate bill, I have a lot of white friends\"\n",
        "\n",
        "# Do not change the code below\n",
        "classify_string(post)"
      ],
      "execution_count": null,
      "outputs": [
        {
          "name": "stdout",
          "text": [
            "NOT TOXIC: \n",
            " Regarding the debate bill, I have a lot of white friends\n"
          ],
          "output_type": "stream"
        }
      ],
      "metadata": {
        "datalore": {
          "type": "CODE",
          "hide_input_from_viewers": false,
          "hide_output_from_viewers": false
        },
        "id": "QIuk-Qk5KU7E",
        "outputId": "6efa65b8-0cff-4c43-86bd-59f290c53add"
      }
    },
    {
      "cell_type": "markdown",
      "source": [
        "## TOXIC - comment"
      ],
      "metadata": {
        "datalore": {
          "type": "MD",
          "hide_input_from_viewers": false,
          "hide_output_from_viewers": false
        },
        "id": "VuvmfTWPKU7G"
      }
    },
    {
      "cell_type": "code",
      "source": [
        "# Comment to pass through the model\n",
        "comment = \"\\n As a muslim black woman I just want to note that this is normal for you, but should it be? Don't you want to have more diverse friends? \"\n",
        "\n",
        "# Do not change the code below\n",
        "classify_string(comment)"
      ],
      "execution_count": null,
      "outputs": [
        {
          "name": "stdout",
          "text": [
            "TOXIC: \n",
            " As a muslim black woman I just want to note that this is normal for you, but should it be? Don't you want to have more diverse friends? \n"
          ],
          "output_type": "stream"
        }
      ],
      "metadata": {
        "datalore": {
          "type": "CODE",
          "hide_input_from_viewers": false,
          "hide_output_from_viewers": false
        },
        "id": "zC8dA14YKU7H",
        "outputId": "a731f07f-cbef-4433-ccc6-d72287b5afc2"
      }
    },
    {
      "cell_type": "markdown",
      "source": [
        "## The students could have played around with the model and recieve the following result:"
      ],
      "metadata": {
        "datalore": {
          "type": "MD",
          "hide_input_from_viewers": false,
          "hide_output_from_viewers": false
        },
        "id": "WIHrMOouKU7J"
      }
    },
    {
      "cell_type": "code",
      "source": [
        "# Comment to pass through the model\n",
        "comment_test = \"\\n As a muslim woman I just want to note that this is normal for you, but should it be? Don't you want to have more diverse friends? \"\n",
        "\n",
        "# Do not change the code below\n",
        "classify_string(comment_test)"
      ],
      "execution_count": null,
      "outputs": [
        {
          "name": "stdout",
          "text": [
            "NOT TOXIC: \n",
            " As a muslim woman I just want to note that this is normal for you, but should it be? Don't you want to have more diverse friends? \n"
          ],
          "output_type": "stream"
        }
      ],
      "metadata": {
        "datalore": {
          "type": "CODE",
          "hide_input_from_viewers": false,
          "hide_output_from_viewers": false
        },
        "id": "efUhlBxKKU7J",
        "outputId": "2da68544-2d4b-4d11-a792-d3ec117fa2fc"
      }
    },
    {
      "cell_type": "code",
      "source": [
        "# Comment to pass through the model\n",
        "post_test = \"\\n Regarding the debate bill, I have a lot of white christian friends which are like me: white and christian\"\n",
        "\n",
        "# Do not change the code below\n",
        "classify_string(post_test)"
      ],
      "execution_count": null,
      "outputs": [
        {
          "name": "stdout",
          "text": [
            "TOXIC: \n",
            " Regarding the debate bill, I have a lot of white christian friends which are like me: white and christian\n"
          ],
          "output_type": "stream"
        }
      ],
      "metadata": {
        "datalore": {
          "type": "CODE",
          "hide_input_from_viewers": false,
          "hide_output_from_viewers": false
        },
        "id": "OwhQAVsuKU7K",
        "outputId": "7d59ebc5-9f20-4b67-fcc9-820dcf2aa2ea"
      }
    },
    {
      "cell_type": "markdown",
      "source": [
        ""
      ],
      "metadata": {
        "datalore": {
          "type": "MD",
          "hide_input_from_viewers": false,
          "hide_output_from_viewers": false
        },
        "id": "EwW_JDuEKU7M"
      }
    },
    {
      "cell_type": "markdown",
      "source": [
        "## 5. A closer investigation of the model"
      ],
      "metadata": {
        "datalore": {
          "type": "MD",
          "hide_input_from_viewers": false,
          "hide_output_from_viewers": false
        },
        "id": "6qTmuQINKU7N"
      }
    },
    {
      "cell_type": "markdown",
      "source": [
        "We'll take a closer look at how the model classifies comments.\n",
        "\n",
        "1. Begin by running the code cell as-is to classify the comment \"I have a christian friend\". You should see that was classified as \"NOT TOXIC\". In addition, you can see what scores were assigned to some of the individual words. Note that all words in the comment likely won't appear.\n",
        "   \n",
        "2. Next, try out another comment: \"I have a muslim friend\". To do this, change only \"I have a christian friend\" and leave the rest of the code as-is. Make sure that your comment is enclosed in quotes, as below.\n",
        "new_comment = \"I have a muslim friend\"\n",
        "\n",
        "3. Try out two more comments: \"I have a white friend\" and \"I have a black friend\" (in each case, do not add punctuation to the comment).\n",
        "\n",
        "4. Feel free to try out more comments, to see how the model classifies them."
      ],
      "metadata": {
        "datalore": {
          "type": "MD",
          "hide_input_from_viewers": false,
          "hide_output_from_viewers": false
        },
        "id": "fR6BM61NKU7N"
      }
    },
    {
      "cell_type": "code",
      "source": [
        "# Set the value of new_comment\n",
        "new_comment = \"I have a christian friend\"\n",
        "\n",
        "# Do not change the code below\n",
        "classify_string(new_comment)\n",
        "coefficients[coefficients.word.isin(new_comment.split())]"
      ],
      "execution_count": null,
      "outputs": [
        {
          "name": "stdout",
          "text": [
            "NOT TOXIC: I have a christian friend\n"
          ],
          "output_type": "stream"
        },
        {
          "data": {
            "text/html": [
              "<div>\n",
              "<style scoped>\n",
              "    .dataframe tbody tr th:only-of-type {\n",
              "        vertical-align: middle;\n",
              "    }\n",
              "\n",
              "    .dataframe tbody tr th {\n",
              "        vertical-align: top;\n",
              "    }\n",
              "\n",
              "    .dataframe thead th {\n",
              "        text-align: right;\n",
              "    }\n",
              "</style>\n",
              "<table border=\"1\" class=\"dataframe\">\n",
              "  <thead>\n",
              "    <tr style=\"text-align: right;\">\n",
              "      <th></th>\n",
              "      <th>word</th>\n",
              "      <th>coeff</th>\n",
              "    </tr>\n",
              "  </thead>\n",
              "  <tbody>\n",
              "    <tr>\n",
              "      <th>10293</th>\n",
              "      <td>christian</td>\n",
              "      <td>-0.041</td>\n",
              "    </tr>\n",
              "    <tr>\n",
              "      <th>21256</th>\n",
              "      <td>friend</td>\n",
              "      <td>-0.131</td>\n",
              "    </tr>\n",
              "    <tr>\n",
              "      <th>24049</th>\n",
              "      <td>have</td>\n",
              "      <td>-0.072</td>\n",
              "    </tr>\n",
              "  </tbody>\n",
              "</table>\n",
              "</div>"
            ]
          },
          "metadata": {},
          "output_type": "display_data"
        }
      ],
      "metadata": {
        "datalore": {
          "type": "CODE",
          "hide_input_from_viewers": false,
          "hide_output_from_viewers": false
        },
        "id": "roFQjEGsKU7O",
        "outputId": "96a668c7-ed1e-4714-ce9a-e54e2d600eab"
      }
    },
    {
      "cell_type": "code",
      "source": [
        "# Set the value of new_comment\n",
        "new_comment = \"I love apples!!\"\n",
        "\n",
        "# Do not change the code below\n",
        "classify_string(new_comment)\n",
        "coefficients[coefficients.word.isin(new_comment.split())]"
      ],
      "execution_count": null,
      "outputs": [
        {
          "name": "stdout",
          "text": [
            "NOT TOXIC: I love apples!!\n"
          ],
          "output_type": "stream"
        },
        {
          "data": {
            "text/html": [
              "<div>\n",
              "<style scoped>\n",
              "    .dataframe tbody tr th:only-of-type {\n",
              "        vertical-align: middle;\n",
              "    }\n",
              "\n",
              "    .dataframe tbody tr th {\n",
              "        vertical-align: top;\n",
              "    }\n",
              "\n",
              "    .dataframe thead th {\n",
              "        text-align: right;\n",
              "    }\n",
              "</style>\n",
              "<table border=\"1\" class=\"dataframe\">\n",
              "  <thead>\n",
              "    <tr style=\"text-align: right;\">\n",
              "      <th></th>\n",
              "      <th>word</th>\n",
              "      <th>coeff</th>\n",
              "    </tr>\n",
              "  </thead>\n",
              "  <tbody>\n",
              "    <tr>\n",
              "      <th>31279</th>\n",
              "      <td>love</td>\n",
              "      <td>-0.227</td>\n",
              "    </tr>\n",
              "  </tbody>\n",
              "</table>\n",
              "</div>"
            ]
          },
          "metadata": {},
          "output_type": "display_data"
        }
      ],
      "metadata": {
        "datalore": {
          "type": "CODE",
          "hide_input_from_viewers": false,
          "hide_output_from_viewers": false
        },
        "id": "sJ1z-UdDKU7P",
        "outputId": "99153e7c-8a24-4780-8d84-39358eae81ac"
      }
    },
    {
      "cell_type": "markdown",
      "source": [
        "Do you see any signs of potential bias in the model? In the code cell above,\n",
        "\n",
        "* How did the model classify \"I have a christian friend\" and \"I have a muslim friend\"?\n",
        "* How did it classify \"I have a white friend\" and \"I have a black friend\"?\n"
      ],
      "metadata": {
        "datalore": {
          "type": "MD",
          "hide_input_from_viewers": false,
          "hide_output_from_viewers": false
        },
        "id": "cZNNoXumKU7Q"
      }
    },
    {
      "cell_type": "markdown",
      "source": [
        "Solution: The comment \"I have a muslim friend\" was marked as toxic, whereas \"I have a christian friend\" was not. Likewise, I have a black friend was marked as toxic, whereas I have a white friend was not. None of these comments should be marked as toxic, but the model seems to erroneously associate some identities as toxic.\n",
        "\n",
        "This is a sign of bias: the model seems biased in favor of christian and against muslim, and it seems biased in favor of white and against black.\n",
        "\n",
        "#### What are possible explanations for the above results? "
      ],
      "metadata": {
        "datalore": {
          "type": "MD",
          "hide_input_from_viewers": false,
          "hide_output_from_viewers": false
        },
        "id": "sa-VVImeKU7R"
      }
    },
    {
      "cell_type": "markdown",
      "source": [
        "## Analysing the coefficients of our posts"
      ],
      "metadata": {
        "datalore": {
          "type": "MD",
          "hide_input_from_viewers": false,
          "hide_output_from_viewers": false
        },
        "id": "2TE9ltaeKU7R"
      }
    },
    {
      "cell_type": "markdown",
      "source": [
        "### Post 1- Classified as 'NOT TOXIC'"
      ],
      "metadata": {
        "datalore": {
          "type": "MD",
          "hide_input_from_viewers": false,
          "hide_output_from_viewers": false
        },
        "id": "5iNJHMqPKU7S"
      }
    },
    {
      "cell_type": "code",
      "source": [
        "curr_coeff = coefficients[coefficients.word.isin(post.split())]\n",
        "curr_coeff = curr_coeff.copy()\n",
        "curr_coeff.loc[:, 'coeff'] = np.around(curr_coeff['coeff'].values,3)\n",
        "curr_coeff.sort_values(by=['coeff'], ascending=False).head(10)"
      ],
      "execution_count": null,
      "outputs": [
        {
          "data": {
            "text/html": [
              "<div>\n",
              "<style scoped>\n",
              "    .dataframe tbody tr th:only-of-type {\n",
              "        vertical-align: middle;\n",
              "    }\n",
              "\n",
              "    .dataframe tbody tr th {\n",
              "        vertical-align: top;\n",
              "    }\n",
              "\n",
              "    .dataframe thead th {\n",
              "        text-align: right;\n",
              "    }\n",
              "</style>\n",
              "<table border=\"1\" class=\"dataframe\">\n",
              "  <thead>\n",
              "    <tr style=\"text-align: right;\">\n",
              "      <th></th>\n",
              "      <th>word</th>\n",
              "      <th>coeff</th>\n",
              "    </tr>\n",
              "  </thead>\n",
              "  <tbody>\n",
              "    <tr>\n",
              "      <th>56554</th>\n",
              "      <td>white</td>\n",
              "      <td>1.169</td>\n",
              "    </tr>\n",
              "    <tr>\n",
              "      <th>13957</th>\n",
              "      <td>debate</td>\n",
              "      <td>0.353</td>\n",
              "    </tr>\n",
              "    <tr>\n",
              "      <th>36523</th>\n",
              "      <td>of</td>\n",
              "      <td>-0.041</td>\n",
              "    </tr>\n",
              "    <tr>\n",
              "      <th>51518</th>\n",
              "      <td>the</td>\n",
              "      <td>-0.045</td>\n",
              "    </tr>\n",
              "    <tr>\n",
              "      <th>24049</th>\n",
              "      <td>have</td>\n",
              "      <td>-0.072</td>\n",
              "    </tr>\n",
              "    <tr>\n",
              "      <th>31234</th>\n",
              "      <td>lot</td>\n",
              "      <td>-0.172</td>\n",
              "    </tr>\n",
              "    <tr>\n",
              "      <th>21261</th>\n",
              "      <td>friends</td>\n",
              "      <td>-0.280</td>\n",
              "    </tr>\n",
              "  </tbody>\n",
              "</table>\n",
              "</div>"
            ]
          },
          "metadata": {},
          "output_type": "display_data"
        }
      ],
      "metadata": {
        "datalore": {
          "type": "CODE",
          "hide_input_from_viewers": false,
          "hide_output_from_viewers": false
        },
        "id": "D2nSx32sKU7T",
        "outputId": "074209a6-0dd3-441c-e424-993661c66490"
      }
    },
    {
      "cell_type": "markdown",
      "source": [
        "### Post 2- Classified as 'TOXIC'"
      ],
      "metadata": {
        "datalore": {
          "type": "MD",
          "hide_input_from_viewers": false,
          "hide_output_from_viewers": false
        },
        "id": "uvnR0DUdKU7U"
      }
    },
    {
      "cell_type": "code",
      "source": [
        "curr_coeff = coefficients[coefficients.word.isin(comment.split())]\n",
        "curr_coeff = curr_coeff.copy()\n",
        "curr_coeff.loc[:, 'coeff'] = np.around(curr_coeff['coeff'].values,3)\n",
        "curr_coeff.sort_values(by=['coeff'], ascending=False).head(10)"
      ],
      "execution_count": null,
      "outputs": [
        {
          "data": {
            "text/html": [
              "<div>\n",
              "<style scoped>\n",
              "    .dataframe tbody tr th:only-of-type {\n",
              "        vertical-align: middle;\n",
              "    }\n",
              "\n",
              "    .dataframe tbody tr th {\n",
              "        vertical-align: top;\n",
              "    }\n",
              "\n",
              "    .dataframe thead th {\n",
              "        text-align: right;\n",
              "    }\n",
              "</style>\n",
              "<table border=\"1\" class=\"dataframe\">\n",
              "  <thead>\n",
              "    <tr style=\"text-align: right;\">\n",
              "      <th></th>\n",
              "      <th>word</th>\n",
              "      <th>coeff</th>\n",
              "    </tr>\n",
              "  </thead>\n",
              "  <tbody>\n",
              "    <tr>\n",
              "      <th>6893</th>\n",
              "      <td>black</td>\n",
              "      <td>2.104</td>\n",
              "    </tr>\n",
              "    <tr>\n",
              "      <th>34692</th>\n",
              "      <td>muslim</td>\n",
              "      <td>1.768</td>\n",
              "    </tr>\n",
              "    <tr>\n",
              "      <th>57027</th>\n",
              "      <td>woman</td>\n",
              "      <td>0.797</td>\n",
              "    </tr>\n",
              "    <tr>\n",
              "      <th>57674</th>\n",
              "      <td>you</td>\n",
              "      <td>0.193</td>\n",
              "    </tr>\n",
              "    <tr>\n",
              "      <th>46955</th>\n",
              "      <td>should</td>\n",
              "      <td>0.111</td>\n",
              "    </tr>\n",
              "    <tr>\n",
              "      <th>51752</th>\n",
              "      <td>this</td>\n",
              "      <td>0.102</td>\n",
              "    </tr>\n",
              "    <tr>\n",
              "      <th>27720</th>\n",
              "      <td>is</td>\n",
              "      <td>0.087</td>\n",
              "    </tr>\n",
              "    <tr>\n",
              "      <th>15978</th>\n",
              "      <td>diverse</td>\n",
              "      <td>0.069</td>\n",
              "    </tr>\n",
              "    <tr>\n",
              "      <th>28580</th>\n",
              "      <td>just</td>\n",
              "      <td>0.054</td>\n",
              "    </tr>\n",
              "    <tr>\n",
              "      <th>27824</th>\n",
              "      <td>it</td>\n",
              "      <td>-0.050</td>\n",
              "    </tr>\n",
              "  </tbody>\n",
              "</table>\n",
              "</div>"
            ]
          },
          "metadata": {},
          "output_type": "display_data"
        }
      ],
      "metadata": {
        "datalore": {
          "type": "CODE",
          "hide_input_from_viewers": false,
          "hide_output_from_viewers": false
        },
        "id": "Y8xYOuIXKU7V",
        "outputId": "e25093be-8481-44f7-950d-63b14ec178d8"
      }
    },
    {
      "cell_type": "markdown",
      "source": [
        "### Question: What are your observations? Are the results surprising?"
      ],
      "metadata": {
        "datalore": {
          "type": "MD",
          "hide_input_from_viewers": false,
          "hide_output_from_viewers": false
        },
        "id": "5ITSPLteKU7W"
      }
    }
  ],
  "metadata": {
    "datalore": {
      "version": 1,
      "computation_mode": "JUPYTER",
      "package_manager": "pip",
      "base_environment": "default",
      "packages": []
    },
    "colab": {
      "name": "Ethics Course Notebook.ipynb",
      "provenance": [],
      "include_colab_link": true
    }
  },
  "nbformat": 4,
  "nbformat_minor": 0
}